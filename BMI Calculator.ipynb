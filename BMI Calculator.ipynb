{
 "cells": [
  {
   "cell_type": "code",
   "execution_count": 11,
   "id": "53a97c7d",
   "metadata": {},
   "outputs": [
    {
     "name": "stdout",
     "output_type": "stream",
     "text": [
      "Input your height first in pounds155\n",
      "Input your weight in inches: 12\n",
      "0.3511342351716962\n"
     ]
    }
   ],
   "source": [
    "height = float(input(\"Input your height first in pounds\"))\n",
    "weight = float(input(\"Input your weight in inches: \"))\n",
    "BMI = (weight *703)/(height * height)\n",
    "print(BMI)"
   ]
  },
  {
   "cell_type": "code",
   "execution_count": 17,
   "id": "4c4238a7",
   "metadata": {},
   "outputs": [
    {
     "name": "stdout",
     "output_type": "stream",
     "text": [
      "You are underweight\n"
     ]
    }
   ],
   "source": [
    "if BMI > 0:\n",
    "    if(BMI < 18.5):\n",
    "        print(\"You are underweight\")\n",
    "    elif(BMI <= 24.9):\n",
    "        print(\"You are normal weight\")\n",
    "    elif(BMI < 29.9):\n",
    "        print(\"You are overweight\")\n",
    "    else:\n",
    "        print(\"Enter valid inputs\")\n"
   ]
  },
  {
   "cell_type": "markdown",
   "id": "6804bc35",
   "metadata": {},
   "source": [
    "   "
   ]
  },
  {
   "cell_type": "code",
   "execution_count": null,
   "id": "884cfc81",
   "metadata": {},
   "outputs": [],
   "source": []
  }
 ],
 "metadata": {
  "kernelspec": {
   "display_name": "Python 3 (ipykernel)",
   "language": "python",
   "name": "python3"
  },
  "language_info": {
   "codemirror_mode": {
    "name": "ipython",
    "version": 3
   },
   "file_extension": ".py",
   "mimetype": "text/x-python",
   "name": "python",
   "nbconvert_exporter": "python",
   "pygments_lexer": "ipython3",
   "version": "3.9.13"
  }
 },
 "nbformat": 4,
 "nbformat_minor": 5
}
